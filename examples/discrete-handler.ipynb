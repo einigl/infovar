{
 "cells": [
  {
   "cell_type": "markdown",
   "metadata": {},
   "source": [
    "# Introduction to `DiscreteHandler`"
   ]
  },
  {
   "cell_type": "code",
   "execution_count": 1,
   "metadata": {},
   "outputs": [],
   "source": [
    "import os\n",
    "import sys\n",
    "import yaml\n",
    "from typing import Tuple\n",
    "\n",
    "import numpy as np\n",
    "import matplotlib.pyplot as plt\n",
    "\n",
    "sys.path.append(os.path.join(os.path.abspath(\"\"), \"..\"))\n",
    "\n",
    "from infovar import DiscreteHandler, StandardGetter"
   ]
  },
  {
   "cell_type": "markdown",
   "metadata": {},
   "source": [
    "## Context\n",
    "\n",
    "Imagine you receive a box with two displays showing a numerical value. The box also has three knobs that can be turned to increase or decrease a value.\n",
    "\n",
    "As it happens, you're not the only one to have received such a box. In fact, 6 of your colleagues have also received a similar box. There's just one detail that sets them apart: on their respective boxes, one or more knobs are hidden. This makes it impossible to read the value of these knobs and turn them. The boxes are as follows, no two identical:\n",
    "- 3 boxes with one of the three knobs hidden,\n",
    "- 3 boxes with two of the three knobs hidden,\n",
    "- your box, with all knobs visible.\n",
    "\n",
    "When you turn one of the knobs, and put your ear to it, you'll remark that the hidden knobs also turn, a priori randomly. Another important detail is that, even in the case of the box with all the knobs, two similar configurations never give exactly the same value on the screens, even though they are generally quite close.\n",
    "\n",
    "*TODO: insert images*"
   ]
  },
  {
   "cell_type": "markdown",
   "metadata": {},
   "source": [
    "What you don't know is that these boxes have been sent to you by an impish statistician. The behavior of these boxes is actually governed by a simple non-deterministic mathematical formula:\n",
    "\n",
    "$$ \\begin{array}{c}s_1\\\\s_2\\end{array} = \\begin{array}{ll} (c_1-c_2)^2 + c_3 + \\varepsilon_1 & \\quad\\text{s.t.}\\quad\\varepsilon_1\\sim\\mathcal{N}(0, 0.05)\\\\\\mathrm{e}^{c_3} + \\varepsilon_2 & \\quad\\text{s.t.}\\quad\\varepsilon_2\\sim \\mathcal{N}(0, 0.1)\\end{array} $$\n",
    "\n",
    "where $x_i$ is knob number $i$ and $y_j$ is display number $j$."
   ]
  },
  {
   "cell_type": "code",
   "execution_count": 2,
   "metadata": {},
   "outputs": [],
   "source": [
    "def function(\n",
    "    x1: np.ndarray, x2: np.ndarray, x3: np.ndarray\n",
    ") -> Tuple[np.ndarray, np.ndarray]:\n",
    "    \"\"\"\n",
    "    ci = cursor n°i (between -1 and 1)\n",
    "    \"\"\"\n",
    "    assert x1.shape == x2.shape == x3.shape\n",
    "    assert (\n",
    "        (np.abs(x1) <= 1).all() and (np.abs(x2) <= 1).all() and (np.abs(x3) <= 1).all()\n",
    "    )\n",
    "\n",
    "    y1 = (x1 - x2) ** 2 + x3 + np.random.normal(0, 0.05, x1.shape)\n",
    "    y2 = x1 + np.random.normal(0, 0.1, x1.shape)\n",
    "    return y1, y2"
   ]
  },
  {
   "cell_type": "markdown",
   "metadata": {},
   "source": [
    "Votre objectif, ainsi que chacun de vos collègue, est dans la mesure du possible suivant sa boîte, d'essayer de quantifier l'influence des curseurs sur les valeurs affichées par l'écran. Pour cela, vous allez chacun noter les valeurs affichées par l'écran compte tenu des valeurs connues des curseurs. Les valeurs des curseurs seront échantillonnées uniformément entre -1 et 1."
   ]
  },
  {
   "cell_type": "markdown",
   "metadata": {},
   "source": [
    "## Getter\n",
    "\n",
    "TODO"
   ]
  },
  {
   "cell_type": "code",
   "execution_count": 3,
   "metadata": {},
   "outputs": [],
   "source": [
    "n_samples = 10_000\n",
    "x1 = np.random.uniform(-1, 1, n_samples)\n",
    "x2 = np.random.uniform(-1, 1, n_samples)\n",
    "x3 = np.random.uniform(-1, 1, n_samples)\n",
    "\n",
    "y1, y2 = function(x1, x2, x3)\n",
    "\n",
    "getter = StandardGetter(\n",
    "    [\"x1\", \"x2\", \"x3\"],\n",
    "    [\"y1\", \"y2\"],\n",
    "    np.column_stack((x1, x2, x3)),\n",
    "    np.column_stack((y1, y2)),\n",
    ")"
   ]
  },
  {
   "cell_type": "markdown",
   "metadata": {},
   "source": [
    "## Discrete handler\n",
    "\n",
    "Le `DiscreteHandler` est l'outil qui va vous permettre d'analyser statistiquement l'influence des curseurs sur les valeurs affichées sur l'écran."
   ]
  },
  {
   "cell_type": "code",
   "execution_count": 4,
   "metadata": {},
   "outputs": [],
   "source": [
    "handler = DiscreteHandler()\n",
    "\n",
    "handler.set_path(\"handlers\")\n",
    "handler.set_getter(getter.get)"
   ]
  },
  {
   "cell_type": "code",
   "execution_count": null,
   "metadata": {},
   "outputs": [],
   "source": [
    "with open(os.path.join(\"handlers\", \"restrictions.yaml\"), \"r\") as f:\n",
    "    restrictions = yaml.safe_load(f)\n",
    "\n",
    "handler.set_restrictions(restrictions)"
   ]
  },
  {
   "cell_type": "code",
   "execution_count": null,
   "metadata": {},
   "outputs": [],
   "source": [
    "handler.remove([\"y1\"])"
   ]
  },
  {
   "cell_type": "code",
   "execution_count": null,
   "metadata": {},
   "outputs": [],
   "source": [
    "print(\"Existing saves:\")\n",
    "for file in handler.get_existing_saves():\n",
    "    print(file)"
   ]
  },
  {
   "cell_type": "code",
   "execution_count": null,
   "metadata": {},
   "outputs": [],
   "source": [
    "inputs_dict = {\"restrictions\": [\"all\"], \"min_samples\": 200, \"statistics\": [\"mi\"]}\n",
    "\n",
    "for s in [\"y1\", \"y2\"]:\n",
    "    for c in [\"x1\", \"x2\", \"x3\"]:\n",
    "        handler.overwrite(c, s, inputs_dict)"
   ]
  },
  {
   "cell_type": "code",
   "execution_count": null,
   "metadata": {},
   "outputs": [],
   "source": [
    "handler.overwrite.__annotations__"
   ]
  },
  {
   "cell_type": "code",
   "execution_count": null,
   "metadata": {},
   "outputs": [],
   "source": [
    "print(\"Existing saves:\")\n",
    "for file in handler.get_existing_saves():\n",
    "    print(file)"
   ]
  },
  {
   "cell_type": "code",
   "execution_count": null,
   "metadata": {},
   "outputs": [],
   "source": [
    "items = handler.read([\"x1\", \"x2\", \"x3\"], \"y1\", \"all\", iterable_x=True)\n",
    "mis = [item[\"mi\"][\"value\"] for item in items]\n",
    "\n",
    "plt.figure(figsize=(6.4, 0.5 * 4.8))\n",
    "\n",
    "plt.bar(np.arange(len(mis)), mis)\n",
    "plt.xticks(np.arange(len(mis)), [\"x1\", \"x2\", \"x3\"])\n",
    "plt.title(\"Mutual information (bits)\")\n",
    "\n",
    "plt.show()"
   ]
  },
  {
   "cell_type": "code",
   "execution_count": null,
   "metadata": {},
   "outputs": [],
   "source": [
    "items = handler.read([\"x1\", \"x2\", \"x3\"], \"s2\", \"all\", iterable_x=True)\n",
    "mis = [item[\"mi\"][\"value\"] for item in items]\n",
    "\n",
    "plt.figure(figsize=(6.4, 0.5 * 4.8))\n",
    "\n",
    "plt.bar(np.arange(len(mis)), mis)\n",
    "plt.xticks(np.arange(len(mis)), [\"x1\", \"x2\", \"x3\"])\n",
    "\n",
    "plt.show()"
   ]
  },
  {
   "cell_type": "code",
   "execution_count": null,
   "metadata": {},
   "outputs": [],
   "source": []
  }
 ],
 "metadata": {
  "language_info": {
   "name": "python"
  }
 },
 "nbformat": 4,
 "nbformat_minor": 2
}
