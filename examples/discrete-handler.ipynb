{
 "cells": [
  {
   "cell_type": "markdown",
   "metadata": {},
   "source": [
    "# Introduction to `DiscreteHandler`"
   ]
  },
  {
   "cell_type": "code",
   "execution_count": 1,
   "metadata": {},
   "outputs": [],
   "source": [
    "import os\n",
    "import yaml\n",
    "from typing import Tuple\n",
    "\n",
    "import numpy as np\n",
    "import matplotlib.pyplot as plt\n",
    "\n",
    "from infovar import DiscreteHandler, StandardGetter"
   ]
  },
  {
   "cell_type": "markdown",
   "metadata": {},
   "source": [
    "## Context\n",
    "\n",
    "Imaginez que vous recevez une boîte sur laquelle se trouve deux écrans affichant une valeur numérique. La boîte possède également trois curseurs pouvant être tournés pour augmenter ou diminuer une valeur.\n",
    "\n",
    "Il se trouve que vous n'êtes pas seul à avoir reçu une telle boîte. En effet, 6 de vos collègues ont également reçu une boîte similaire. Un seul détail les différencie toutes : sur leurs boîtes respectives, un ou plusieurs boutons sont cachés. Il est alors impossible de lire la valeur de ces boutons et de les tourner. Les boîtes sont ainsi les suivantes :\n",
    "\n",
    "- 3 boîtes avec un des trois curseurs caché\n",
    "- 3 boîtes avec deux des trois curseurs cachés\n",
    "- votre boîte, avec tous les curseurs visibles\n",
    "\n",
    "Lorsque vous tournez un des curseurs, et collez votre oreille, vous entendez que les boutons cachées se tournent aussi, a priori aléatoirement. Autre détail important, même dans le cas de la boîte avec tous les boutons, deux configuration similaires ne donnent jamais exactement la même valeur sur les écrans, même si ces dernières sont généralement assez proches."
   ]
  },
  {
   "cell_type": "markdown",
   "metadata": {},
   "source": [
    "Ce que vous ne savez pas, c'est que ces boîtes vous ont été envoyé par un statisticien malicieux. Le comportement de ces boîtes est en réalité régit par une simple formule mathématique non-déterministe :\n",
    "\n",
    "$$ \\begin{array}{c}s_1\\\\s_2\\end{array} = \\begin{array}{l} (c1-c2)^2 + c3 + \\mathcal{N}(0, 0.05)\\\\\\mathrm{e}^{c_3} + \\mathcal{N}(0, 0.1)\\end{array} $$"
   ]
  },
  {
   "cell_type": "code",
   "execution_count": 2,
   "metadata": {},
   "outputs": [],
   "source": [
    "def function(\n",
    "    c1: np.ndarray, c2: np.ndarray, c3: np.ndarray\n",
    ") -> Tuple[np.ndarray, np.ndarray]:\n",
    "    \"\"\"\n",
    "    ci = cursor n°i (between -1 and 1)\n",
    "    \"\"\"\n",
    "    assert c1.shape == c2.shape == c3.shape\n",
    "    assert (\n",
    "        (np.abs(c1) <= 1).all() and (np.abs(c2) <= 1).all() and (np.abs(c3) <= 1).all()\n",
    "    )\n",
    "\n",
    "    s1 = (c1 - c2) ** 2 + c3 + np.random.normal(0, 0.05, c1.shape)\n",
    "    s2 = c1 + np.random.normal(0, 0.1, c1.shape)\n",
    "    return s1, s2"
   ]
  },
  {
   "cell_type": "markdown",
   "metadata": {},
   "source": [
    "Votre objectif, ainsi que chacun de vos collègue, est dans la mesure du possible suivant sa boîte, d'essayer de quantifier l'influence des curseurs sur les valeurs affichées par l'écran. Pour cela, vous allez chacun noter les valeurs affichées par l'écran compte tenu des valeurs connues des curseurs. Les valeurs des curseurs seront échantillonnées uniformément entre -1 et 1."
   ]
  },
  {
   "cell_type": "markdown",
   "metadata": {},
   "source": [
    "## Getter\n",
    "\n",
    "TODO"
   ]
  },
  {
   "cell_type": "code",
   "execution_count": 3,
   "metadata": {},
   "outputs": [],
   "source": [
    "n_samples = 10_000\n",
    "c1 = np.random.uniform(-1, 1, n_samples)\n",
    "c2 = np.random.uniform(-1, 1, n_samples)\n",
    "c3 = np.random.uniform(-1, 1, n_samples)\n",
    "\n",
    "s1, s2 = function(c1, c2, c3)\n",
    "\n",
    "getter = StandardGetter(\n",
    "    [\"c1\", \"c2\", \"c3\"],\n",
    "    [\"s1\", \"s2\"],\n",
    "    np.column_stack((c1, c2, c3)),\n",
    "    np.column_stack((s1, s2)),\n",
    ")"
   ]
  },
  {
   "cell_type": "markdown",
   "metadata": {},
   "source": [
    "## Discrete handler\n",
    "\n",
    "Le `DiscreteHandler` est l'outil qui va vous permettre d'analyser statistiquement l'influence des curseurs sur les valeurs affichées sur l'écran."
   ]
  },
  {
   "cell_type": "code",
   "execution_count": 4,
   "metadata": {},
   "outputs": [],
   "source": [
    "handler = DiscreteHandler()\n",
    "\n",
    "handler.set_path(\"handlers\")\n",
    "handler.set_getter(getter.get)"
   ]
  },
  {
   "cell_type": "code",
   "execution_count": 5,
   "metadata": {},
   "outputs": [],
   "source": [
    "with open(os.path.join(\"handlers\", \"restrictions.yaml\"), \"r\") as f:\n",
    "    restrictions = yaml.safe_load(f)\n",
    "\n",
    "handler.set_restrictions(restrictions)"
   ]
  },
  {
   "cell_type": "code",
   "execution_count": null,
   "metadata": {},
   "outputs": [],
   "source": [
    "handler.remove([\"s1\"])"
   ]
  },
  {
   "cell_type": "code",
   "execution_count": 6,
   "metadata": {},
   "outputs": [
    {
     "name": "stdout",
     "output_type": "stream",
     "text": [
      "Existing saves:\n",
      "s1.json\n"
     ]
    }
   ],
   "source": [
    "print(\"Existing saves:\")\n",
    "for file in handler.get_existing_saves():\n",
    "    print(file)"
   ]
  },
  {
   "cell_type": "code",
   "execution_count": 7,
   "metadata": {},
   "outputs": [
    {
     "name": "stderr",
     "output_type": "stream",
     "text": [
      "[s1]: 100%|██████████| 1/1 [00:00<00:00,  4.71it/s, x=[c1]]\n",
      "[s1]: 100%|██████████| 1/1 [00:00<00:00,  5.92it/s, x=[c2]]\n",
      "[s1]: 100%|██████████| 1/1 [00:00<00:00,  5.97it/s, x=[c3]]\n",
      "[s2]: 100%|██████████| 1/1 [00:00<00:00,  6.98it/s, x=[c1]]\n",
      "[s2]: 100%|██████████| 1/1 [00:00<00:00,  5.65it/s, x=[c2]]\n",
      "[s2]: 100%|██████████| 1/1 [00:00<00:00,  5.78it/s, x=[c3]]\n"
     ]
    }
   ],
   "source": [
    "inputs_dict = {\"restrictions\": [\"all\"], \"min_samples\": 200, \"statistics\": [\"mi\"]}\n",
    "\n",
    "for s in [\"s1\", \"s2\"]:\n",
    "    for c in [\"c1\", \"c2\", \"c3\"]:\n",
    "        handler.overwrite(c, s, inputs_dict)"
   ]
  },
  {
   "cell_type": "code",
   "execution_count": 8,
   "metadata": {},
   "outputs": [
    {
     "name": "stdout",
     "output_type": "stream",
     "text": [
      "Existing saves:\n",
      "s1.json\n",
      "s2.json\n"
     ]
    }
   ],
   "source": [
    "print(\"Existing saves:\")\n",
    "for file in handler.get_existing_saves():\n",
    "    print(file)"
   ]
  },
  {
   "cell_type": "code",
   "execution_count": 15,
   "metadata": {},
   "outputs": [
    {
     "data": {
      "image/png": "[encoded data removed]",
      "text/plain": [
       "<Figure size 640x240 with 1 Axes>"
      ]
     },
     "metadata": {},
     "output_type": "display_data"
    }
   ],
   "source": [
    "items = handler.read([\"c1\", \"c2\", \"c3\"], \"s1\", \"all\", iterable_x=True)\n",
    "mis = [item[\"mi\"][\"value\"] for item in items]\n",
    "\n",
    "plt.figure(figsize=(6.4, 0.5 * 4.8))\n",
    "\n",
    "plt.bar(np.arange(len(mis)), mis)\n",
    "plt.xticks(np.arange(len(mis)), [\"c1\", \"c2\", \"c3\"])\n",
    "plt.title(\"Mutual information (bits)\")\n",
    "\n",
    "plt.show()"
   ]
  },
  {
   "cell_type": "code",
   "execution_count": 16,
   "metadata": {},
   "outputs": [
    {
     "data": {
      "image/png": "[encoded data removed]",
      "text/plain": [
       "<Figure size 640x240 with 1 Axes>"
      ]
     },
     "metadata": {},
     "output_type": "display_data"
    }
   ],
   "source": [
    "items = handler.read([\"c1\", \"c2\", \"c3\"], \"s2\", \"all\", iterable_x=True)\n",
    "mis = [item[\"mi\"][\"value\"] for item in items]\n",
    "\n",
    "plt.figure(figsize=(6.4, 0.5 * 4.8))\n",
    "\n",
    "plt.bar(np.arange(len(mis)), mis)\n",
    "plt.xticks(np.arange(len(mis)), [\"c1\", \"c2\", \"c3\"])\n",
    "\n",
    "plt.show()"
   ]
  },
  {
   "cell_type": "code",
   "execution_count": null,
   "metadata": {},
   "outputs": [],
   "source": []
  }
 ],
 "metadata": {
  "language_info": {
   "name": "python"
  }
 },
 "nbformat": 4,
 "nbformat_minor": 2
}
