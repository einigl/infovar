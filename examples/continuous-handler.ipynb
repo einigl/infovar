{
 "cells": [
  {
   "cell_type": "markdown",
   "metadata": {},
   "source": [
    "# Introduction to `ContinuousHandler`"
   ]
  },
  {
   "cell_type": "code",
   "execution_count": 1,
   "metadata": {},
   "outputs": [],
   "source": [
    "import os\n",
    "import sys\n",
    "from typing import Tuple\n",
    "\n",
    "import numpy as np\n",
    "import matplotlib.pyplot as plt\n",
    "from matplotlib.colors import LogNorm\n",
    "\n",
    "sys.path.append(os.path.join(os.path.abspath(\"\"), \"..\"))\n",
    "\n",
    "from infovar import ContinuousHandler, StandardGetter, ContinuousHelper"
   ]
  },
  {
   "cell_type": "markdown",
   "metadata": {},
   "source": [
    "## Context\n",
    "\n",
    "Imagine you receive a box with two displays showing a numerical value. The box also has three knobs that can be turned to increase or decrease a value.\n",
    "\n",
    "As it happens, you're not the only one to have received such a box. In fact, 6 of your colleagues have also received a similar box. There's just one detail that sets them apart: on their respective boxes, one or more knobs are hidden. This makes it impossible to read the value of these knobs and turn them. The boxes are as follows, no two identical:\n",
    "- 3 boxes with one of the three knobs hidden,\n",
    "- 3 boxes with two of the three knobs hidden,\n",
    "- your box, with all knobs visible.\n",
    "\n",
    "When you turn one of the knobs, and put your ear to it, you'll remark that the hidden knobs also turn, a priori randomly. Another important detail is that, even in the case of the box with all the knobs, two similar configurations never give exactly the same value on the screens, even though they are generally quite close.\n",
    "\n",
    "![Boxes](img/boxes.png)\n",
    "\n",
    "What you don't know is that these boxes have been sent to you by an impish statistician. The behavior of these boxes is actually governed by a simple non-deterministic mathematical formula:\n",
    "\n",
    "$$ \\begin{array}{c}y_1\\\\y_2\\end{array} = \\begin{array}{ll} (x_1-x_2)^2 + x_3 + \\varepsilon_1 & \\quad\\text{s.t.}\\quad\\varepsilon_1\\sim\\mathcal{N}(0, 0.05)\\\\x_3^2 + \\varepsilon_2 & \\quad\\text{s.t.}\\quad\\varepsilon_2\\sim \\mathcal{N}(0, 0.1)\\end{array} $$\n",
    "\n",
    "where $x_i$ is knob number $i$ and $y_j$ is display number $j$."
   ]
  },
  {
   "cell_type": "code",
   "execution_count": 2,
   "metadata": {},
   "outputs": [],
   "source": [
    "def function(\n",
    "    x1: np.ndarray, x2: np.ndarray, x3: np.ndarray\n",
    ") -> Tuple[np.ndarray, np.ndarray]:\n",
    "    \"\"\"\n",
    "    ci = cursor n°i (between -1 and 1)\n",
    "    \"\"\"\n",
    "    assert x1.shape == x2.shape == x3.shape\n",
    "    assert (\n",
    "        (np.abs(x1) <= 1).all() and (np.abs(x2) <= 1).all() and (np.abs(x3) <= 1).all()\n",
    "    )\n",
    "\n",
    "    y1 = (x1 - x2) ** 2 + x3 + np.random.normal(0, 0.05, x1.shape)\n",
    "    y2 = x3 ** 2 + np.random.normal(0, 0.1, x1.shape)\n",
    "    return y1, y2"
   ]
  },
  {
   "cell_type": "markdown",
   "metadata": {},
   "source": [
    "Your goal, and that of each of your colleagues, is to quantify the influence of the knobs on the displayed values. To do this, you will each note the values displayed by the screen, taking into account the known values of the knobs. Knob values will be sampled uniformly between -1 and 1."
   ]
  },
  {
   "cell_type": "markdown",
   "metadata": {},
   "source": [
    "## Getter\n",
    "\n",
    "In this package, a \"getter\" is a function used to supply data meeting certain constraints. We provide a `StandardGetter` class that allows you to use samples already available and return a certain number via the `get` method. This method will be supplied to the handler."
   ]
  },
  {
   "cell_type": "code",
   "execution_count": 3,
   "metadata": {},
   "outputs": [],
   "source": [
    "n_samples = 500_000\n",
    "x1 = np.random.uniform(-1, 1, n_samples)\n",
    "x2 = np.random.uniform(-1, 1, n_samples)\n",
    "x3 = np.random.uniform(-1, 1, n_samples)\n",
    "\n",
    "y1, y2 = function(x1, x2, x3)\n",
    "\n",
    "getter = StandardGetter(\n",
    "    [\"x1\", \"x2\", \"x3\"],\n",
    "    [\"y1\", \"y2\"],\n",
    "    np.column_stack((x1, x2, x3)),\n",
    "    np.column_stack((y1, y2)),\n",
    ")"
   ]
  },
  {
   "cell_type": "markdown",
   "metadata": {},
   "source": [
    "## Continuous handler\n",
    "\n",
    "The `ContinuousHandler` is a tool that allows you to statistically analyze the influence of knobs on the values displayed on the screen.This class also manages the storage and access of these results."
   ]
  },
  {
   "cell_type": "code",
   "execution_count": null,
   "metadata": {},
   "outputs": [],
   "source": [
    "handler = ContinuousHandler()\n",
    "\n",
    "handler.set_path(os.path.join(\"handlers\", \"data\"))\n",
    "handler.set_getter(getter.get)\n",
    "\n",
    "handler.overview()"
   ]
  },
  {
   "cell_type": "code",
   "execution_count": null,
   "metadata": {},
   "outputs": [],
   "source": [
    "# Remove existing saves if any\n",
    "handler.remove(None, \"y1\")\n",
    "handler.remove(None, \"y2\")\n",
    "\n",
    "handler.overview()"
   ]
  },
  {
   "cell_type": "markdown",
   "metadata": {},
   "source": [
    "# First results"
   ]
  },
  {
   "cell_type": "code",
   "execution_count": null,
   "metadata": {},
   "outputs": [],
   "source": [
    "a1 = np.min(getter.y[:, 0])\n",
    "b1 = np.max(getter.y[:, 0])\n",
    "\n",
    "a2 = np.min(getter.y[:, 1])\n",
    "b2 = np.max(getter.y[:, 1])\n",
    "\n",
    "print(f\"[{a1}, {b1}], [{a2}, {b2}]\")"
   ]
  },
  {
   "cell_type": "code",
   "execution_count": null,
   "metadata": {},
   "outputs": [],
   "source": [
    "settings = {\n",
    "    \"statistics\": [\"mi\"],\n",
    "    \"windows\": {\n",
    "        \"features\": [\"y1\", \"y2\"],         # Sliding window features\n",
    "        \"bounds\": [[a1, b1], [a2, b2]],   # Sliding window bounds\n",
    "        \"bounds_include_windows\": True,   # The bounds does not correspond to the center of the extreme windows\n",
    "        \"scale\": \"linear\",                # No logarithmic scale\n",
    "        \"length\": [0.2, 0.2],             # A sliding window has a length of 0.2\n",
    "        \"points\": 25,                     # Number of sliding window used\n",
    "    },\n",
    "    \"min_samples\": 200,\n",
    "    \"max_samples\": 1_000\n",
    "}\n",
    "\n",
    "for t in [\"y1\", \"y2\"]:\n",
    "    for v in [\"x1\", \"x2\", \"x3\"]:\n",
    "        handler.overwrite(v, t, settings)"
   ]
  },
  {
   "cell_type": "code",
   "execution_count": null,
   "metadata": {},
   "outputs": [],
   "source": [
    "data = handler.read(\"x1\", \"y1\", [\"y1\", \"y2\"])\n",
    "print(data.keys())\n",
    "print(data[\"mi\"].keys())"
   ]
  },
  {
   "cell_type": "markdown",
   "metadata": {},
   "source": [
    "### Number of samples used per sliding window"
   ]
  },
  {
   "cell_type": "code",
   "execution_count": null,
   "metadata": {},
   "outputs": [],
   "source": [
    "plt.figure()\n",
    "\n",
    "y1, y2 = data[\"mi\"][\"coords\"]\n",
    "samples = data[\"mi\"][\"samples\"]\n",
    "\n",
    "plt.pcolormesh(y1, y2, samples.T, cmap=\"Oranges\", norm=LogNorm(1, None))\n",
    "plt.colorbar()\n",
    "\n",
    "plt.xlabel(\"$y_1$\")\n",
    "plt.ylabel(\"$y_2$\")\n",
    "plt.title(f\"Number of samples per sliding window\")\n",
    "\n",
    "plt.show()"
   ]
  },
  {
   "cell_type": "markdown",
   "metadata": {},
   "source": [
    "### Mutual information maps"
   ]
  },
  {
   "cell_type": "code",
   "execution_count": 10,
   "metadata": {},
   "outputs": [],
   "source": [
    "vmax = {\n",
    "    \"y1\": 0,\n",
    "    \"y2\": 0\n",
    "}\n",
    "for t in [\"y1\", \"y2\"]:\n",
    "    for v in [\"x1\", \"x2\", \"x3\"]:\n",
    "        data = handler.read(v, t, [\"y1\", \"y2\"])[\"mi\"]\n",
    "        vmax[t] = max(vmax[t], np.nanmax(data[\"data\"]))"
   ]
  },
  {
   "cell_type": "code",
   "execution_count": null,
   "metadata": {},
   "outputs": [],
   "source": [
    "for t in [\"y1\", \"y2\"]:\n",
    "\n",
    "    plt.figure(figsize=(3*6.4, 4.8))\n",
    "    for i, v in enumerate([\"x1\", \"x2\", \"x3\"], 1):\n",
    "        data = handler.read(v, t, [\"y1\", \"y2\"])[\"mi\"]\n",
    "\n",
    "        y1, y2 = data[\"coords\"]\n",
    "        mi = data[\"data\"]\n",
    "\n",
    "        plt.subplot(1, 3, i)\n",
    "\n",
    "        plt.pcolormesh(y1, y2, mi.T, cmap=\"inferno\", vmin=0, vmax=vmax[t])\n",
    "        plt.colorbar()\n",
    "        \n",
    "        plt.xlabel(\"$y_1$\")\n",
    "        plt.ylabel(\"$y_2$\")\n",
    "        plt.title(f\"Information map for {v} and {t}\")\n",
    "\n",
    "    plt.show()"
   ]
  },
  {
   "cell_type": "markdown",
   "metadata": {},
   "source": [
    "## Comparison with other metrics"
   ]
  },
  {
   "cell_type": "code",
   "execution_count": 12,
   "metadata": {},
   "outputs": [],
   "source": [
    "# Work in progress"
   ]
  },
  {
   "cell_type": "markdown",
   "metadata": {},
   "source": [
    "## Influence of combined knobs"
   ]
  },
  {
   "cell_type": "code",
   "execution_count": 13,
   "metadata": {},
   "outputs": [],
   "source": [
    "# Work in progress"
   ]
  },
  {
   "cell_type": "markdown",
   "metadata": {},
   "source": [
    "## Most informative knob selection"
   ]
  },
  {
   "cell_type": "code",
   "execution_count": 14,
   "metadata": {},
   "outputs": [],
   "source": [
    "# Work in progress"
   ]
  },
  {
   "cell_type": "code",
   "execution_count": 15,
   "metadata": {},
   "outputs": [],
   "source": [
    "# Work in progress"
   ]
  }
 ],
 "metadata": {
  "language_info": {
   "name": "python"
  }
 },
 "nbformat": 4,
 "nbformat_minor": 2
}
